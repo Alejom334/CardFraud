{
 "cells": [
  {
   "cell_type": "markdown",
   "metadata": {
    "id": "pWLUuuxLD_m1"
   },
   "source": [
    "Run train.csv through here:"
   ]
  },
  {
   "cell_type": "code",
   "execution_count": 1,
   "metadata": {
    "id": "h_V3l3k6D6YW"
   },
   "outputs": [],
   "source": [
    "import os\n",
    "import pandas as pd\n",
    "import matplotlib.pyplot as plt\n",
    "from sklearn import preprocessing\n",
    "from sklearn.model_selection import train_test_split\n",
    "import numpy as np\n",
    "\n",
    "folder_path = \"../ieee-fraud-detection/\"\n",
    "\n",
    "path_csv = \"/Users/alejandromartinez/PycharmProjects/fraud_detection/ieee-fraud-detection\"\n",
    "\n",
    "train = pd.read_csv(f'{folder_path}' + \"train.csv\")\n",
    "#train_y = pd.read_csv(f'{folder_path}' + \"train_y.csv\")\n",
    "#test = pd.read_csv(f'{folder_path}' + \"test.csv\")\n",
    "#trainSplit = np.array_split(train, 20)\n",
    "train[\"card1\"] = train[\"card1\"].fillna(0)\n",
    "train[\"card2\"] = train[\"card2\"].fillna(0)\n",
    "train[\"card3\"] = train[\"card3\"].fillna(0)\n",
    "train[\"card4\"] = train[\"card4\"].fillna(\"NA\")\n",
    "train[\"card5\"] = train[\"card5\"].fillna(0)\n",
    "train[\"card6\"] = train[\"card6\"].fillna(\"NA\")\n",
    "train[\"P_emaildomain\"] = train[\"P_emaildomain\"].fillna(\"NA\")\n",
    "train[\"R_emaildomain\"] = train[\"R_emaildomain\"].fillna(\"NA\")\n",
    "train[\"id_12\"] = train[\"id_12\"].fillna(\"NA\")\n",
    "train[\"id_13\"] = train[\"id_13\"].fillna(\"NA\")\n",
    "train[\"id_14\"] = train[\"id_14\"].fillna(0)\n",
    "train[\"id_15\"] = train[\"id_15\"].fillna(\"NA\")\n",
    "train[\"id_16\"] = train[\"id_16\"].fillna(\"NA\")\n",
    "train[\"id_17\"] = train[\"id_17\"].fillna(0)\n",
    "train[\"id_19\"] = train[\"id_19\"].fillna(0)\n",
    "train[\"id_20\"] = train[\"id_20\"].fillna(0)\n",
    "train[\"id_28\"] = train[\"id_28\"].fillna(\"NA\")\n",
    "train[\"id_29\"] = train[\"id_29\"].fillna(\"NA\")\n",
    "train[\"id_30\"] = train[\"id_30\"].fillna(\"NA\")\n",
    "train[\"id_31\"] = train[\"id_31\"].fillna(\"NA\")\n",
    "train[\"id_32\"] = train[\"id_32\"].fillna(0)\n",
    "train[\"id_33\"] = train[\"id_33\"].fillna(\"NA\")\n",
    "train[\"id_34\"] = train[\"id_34\"].fillna(\"NA\")\n",
    "train[\"id_35\"] = train[\"id_35\"].fillna(\"NA\")\n",
    "train[\"id_36\"] = train[\"id_36\"].fillna(\"NA\")\n",
    "train[\"id_37\"] = train[\"id_37\"].fillna(\"NA\")\n",
    "train[\"id_38\"] = train[\"id_38\"].fillna(\"NA\")\n",
    "train[\"DeviceType\"] = train[\"DeviceType\"].fillna(\"NA\")\n",
    "train[\"DeviceInfo\"] = train[\"DeviceInfo\"].fillna(\"NA\")\n",
    "train[\"ProductCD\"] = train[\"ProductCD\"].fillna(\"NA\")\n",
    "train[\"M1\"] = train[\"M1\"].fillna(\"NA\")\n",
    "train[\"M2\"] = train[\"M2\"].fillna(\"NA\")\n",
    "train[\"M3\"] = train[\"M3\"].fillna(\"NA\")\n",
    "train[\"M4\"] = train[\"M4\"].fillna(\"NA\")\n",
    "train[\"M5\"] = train[\"M5\"].fillna(\"NA\")\n",
    "train[\"M6\"] = train[\"M6\"].fillna(\"NA\")\n",
    "train[\"M7\"] = train[\"M7\"].fillna(\"NA\")\n",
    "train[\"M8\"] = train[\"M8\"].fillna(\"NA\")\n",
    "train[\"M9\"] = train[\"M9\"].fillna(\"NA\")\n",
    "train[\"addr1\"] = train[\"addr1\"].fillna(0)\n",
    "train[\"addr2\"] = train[\"addr2\"].fillna(0)"
   ]
  },
  {
   "cell_type": "markdown",
   "metadata": {
    "id": "CLIw4QmPEtFq"
   },
   "source": [
    "Connect your Google Drive to the runtime (this will make it easier to share the output with me)."
   ]
  },
  {
   "cell_type": "markdown",
   "metadata": {
    "id": "tNEWPhDOFGBq"
   },
   "source": [
    "This should output files to your drive starting with \"train28.csv\". This takes A WHILE. When you finish, share all the files to my drive at srodr378@fiu.edu.\n"
   ]
  },
  {
   "cell_type": "code",
   "execution_count": 2,
   "metadata": {
    "id": "kkkQsJE0E5j1"
   },
   "outputs": [
    {
     "ename": "OSError",
     "evalue": "[Errno 28] No space left on device",
     "output_type": "error",
     "traceback": [
      "\u001b[0;31m---------------------------------------------------------------------------\u001b[0m",
      "\u001b[0;31mOSError\u001b[0m                                   Traceback (most recent call last)",
      "\u001b[0;32m<ipython-input-2-553525d624c0>\u001b[0m in \u001b[0;36m<module>\u001b[0;34m\u001b[0m\n\u001b[1;32m     13\u001b[0m   \u001b[0;32mif\u001b[0m \u001b[0mcol\u001b[0m \u001b[0;32min\u001b[0m \u001b[0mcat_cols_left\u001b[0m\u001b[0;34m:\u001b[0m\u001b[0;34m\u001b[0m\u001b[0;34m\u001b[0m\u001b[0m\n\u001b[1;32m     14\u001b[0m     \u001b[0mtrain1\u001b[0m \u001b[0;34m=\u001b[0m \u001b[0mpd\u001b[0m\u001b[0;34m.\u001b[0m\u001b[0mget_dummies\u001b[0m\u001b[0;34m(\u001b[0m\u001b[0mdata\u001b[0m\u001b[0;34m=\u001b[0m\u001b[0mtrain\u001b[0m\u001b[0;34m,\u001b[0m \u001b[0mcolumns\u001b[0m\u001b[0;34m=\u001b[0m\u001b[0;34m[\u001b[0m\u001b[0mcol\u001b[0m\u001b[0;34m]\u001b[0m\u001b[0;34m)\u001b[0m\u001b[0;34m\u001b[0m\u001b[0;34m\u001b[0m\u001b[0m\n\u001b[0;32m---> 15\u001b[0;31m     \u001b[0mtrain1\u001b[0m\u001b[0;34m.\u001b[0m\u001b[0mto_csv\u001b[0m\u001b[0;34m(\u001b[0m \u001b[0;34m\"{0}{1}.csv\"\u001b[0m\u001b[0;34m.\u001b[0m\u001b[0mformat\u001b[0m\u001b[0;34m(\u001b[0m\u001b[0mpath_csv\u001b[0m\u001b[0;34m,\u001b[0m \u001b[0mi\u001b[0m\u001b[0;34m)\u001b[0m\u001b[0;34m,\u001b[0m\u001b[0mindex\u001b[0m\u001b[0;34m=\u001b[0m\u001b[0;32mFalse\u001b[0m\u001b[0;34m)\u001b[0m\u001b[0;34m\u001b[0m\u001b[0;34m\u001b[0m\u001b[0m\n\u001b[0m\u001b[1;32m     16\u001b[0m   \u001b[0mi\u001b[0m \u001b[0;34m=\u001b[0m \u001b[0mi\u001b[0m \u001b[0;34m+\u001b[0m \u001b[0;36m1\u001b[0m\u001b[0;34m\u001b[0m\u001b[0;34m\u001b[0m\u001b[0m\n",
      "\u001b[0;32m/usr/local/lib/python3.8/site-packages/pandas/core/generic.py\u001b[0m in \u001b[0;36mto_csv\u001b[0;34m(self, path_or_buf, sep, na_rep, float_format, columns, header, index, index_label, mode, encoding, compression, quoting, quotechar, line_terminator, chunksize, date_format, doublequote, escapechar, decimal, errors)\u001b[0m\n\u001b[1;32m   3165\u001b[0m             \u001b[0mdecimal\u001b[0m\u001b[0;34m=\u001b[0m\u001b[0mdecimal\u001b[0m\u001b[0;34m,\u001b[0m\u001b[0;34m\u001b[0m\u001b[0;34m\u001b[0m\u001b[0m\n\u001b[1;32m   3166\u001b[0m         )\n\u001b[0;32m-> 3167\u001b[0;31m         \u001b[0mformatter\u001b[0m\u001b[0;34m.\u001b[0m\u001b[0msave\u001b[0m\u001b[0;34m(\u001b[0m\u001b[0;34m)\u001b[0m\u001b[0;34m\u001b[0m\u001b[0;34m\u001b[0m\u001b[0m\n\u001b[0m\u001b[1;32m   3168\u001b[0m \u001b[0;34m\u001b[0m\u001b[0m\n\u001b[1;32m   3169\u001b[0m         \u001b[0;32mif\u001b[0m \u001b[0mpath_or_buf\u001b[0m \u001b[0;32mis\u001b[0m \u001b[0;32mNone\u001b[0m\u001b[0;34m:\u001b[0m\u001b[0;34m\u001b[0m\u001b[0;34m\u001b[0m\u001b[0m\n",
      "\u001b[0;32m/usr/local/lib/python3.8/site-packages/pandas/io/formats/csvs.py\u001b[0m in \u001b[0;36msave\u001b[0;34m(self)\u001b[0m\n\u001b[1;32m    204\u001b[0m             )\n\u001b[1;32m    205\u001b[0m \u001b[0;34m\u001b[0m\u001b[0m\n\u001b[0;32m--> 206\u001b[0;31m             \u001b[0mself\u001b[0m\u001b[0;34m.\u001b[0m\u001b[0m_save\u001b[0m\u001b[0;34m(\u001b[0m\u001b[0;34m)\u001b[0m\u001b[0;34m\u001b[0m\u001b[0;34m\u001b[0m\u001b[0m\n\u001b[0m\u001b[1;32m    207\u001b[0m \u001b[0;34m\u001b[0m\u001b[0m\n\u001b[1;32m    208\u001b[0m         \u001b[0;32mfinally\u001b[0m\u001b[0;34m:\u001b[0m\u001b[0;34m\u001b[0m\u001b[0;34m\u001b[0m\u001b[0m\n",
      "\u001b[0;32m/usr/local/lib/python3.8/site-packages/pandas/io/formats/csvs.py\u001b[0m in \u001b[0;36m_save\u001b[0;34m(self)\u001b[0m\n\u001b[1;32m    326\u001b[0m                 \u001b[0;32mbreak\u001b[0m\u001b[0;34m\u001b[0m\u001b[0;34m\u001b[0m\u001b[0m\n\u001b[1;32m    327\u001b[0m \u001b[0;34m\u001b[0m\u001b[0m\n\u001b[0;32m--> 328\u001b[0;31m             \u001b[0mself\u001b[0m\u001b[0;34m.\u001b[0m\u001b[0m_save_chunk\u001b[0m\u001b[0;34m(\u001b[0m\u001b[0mstart_i\u001b[0m\u001b[0;34m,\u001b[0m \u001b[0mend_i\u001b[0m\u001b[0;34m)\u001b[0m\u001b[0;34m\u001b[0m\u001b[0;34m\u001b[0m\u001b[0m\n\u001b[0m\u001b[1;32m    329\u001b[0m \u001b[0;34m\u001b[0m\u001b[0m\n\u001b[1;32m    330\u001b[0m     \u001b[0;32mdef\u001b[0m \u001b[0m_save_chunk\u001b[0m\u001b[0;34m(\u001b[0m\u001b[0mself\u001b[0m\u001b[0;34m,\u001b[0m \u001b[0mstart_i\u001b[0m\u001b[0;34m:\u001b[0m \u001b[0mint\u001b[0m\u001b[0;34m,\u001b[0m \u001b[0mend_i\u001b[0m\u001b[0;34m:\u001b[0m \u001b[0mint\u001b[0m\u001b[0;34m)\u001b[0m \u001b[0;34m->\u001b[0m \u001b[0;32mNone\u001b[0m\u001b[0;34m:\u001b[0m\u001b[0;34m\u001b[0m\u001b[0;34m\u001b[0m\u001b[0m\n",
      "\u001b[0;32m/usr/local/lib/python3.8/site-packages/pandas/io/formats/csvs.py\u001b[0m in \u001b[0;36m_save_chunk\u001b[0;34m(self, start_i, end_i)\u001b[0m\n\u001b[1;32m    360\u001b[0m         )\n\u001b[1;32m    361\u001b[0m \u001b[0;34m\u001b[0m\u001b[0m\n\u001b[0;32m--> 362\u001b[0;31m         \u001b[0mlibwriters\u001b[0m\u001b[0;34m.\u001b[0m\u001b[0mwrite_csv_rows\u001b[0m\u001b[0;34m(\u001b[0m\u001b[0mself\u001b[0m\u001b[0;34m.\u001b[0m\u001b[0mdata\u001b[0m\u001b[0;34m,\u001b[0m \u001b[0mix\u001b[0m\u001b[0;34m,\u001b[0m \u001b[0mself\u001b[0m\u001b[0;34m.\u001b[0m\u001b[0mnlevels\u001b[0m\u001b[0;34m,\u001b[0m \u001b[0mself\u001b[0m\u001b[0;34m.\u001b[0m\u001b[0mcols\u001b[0m\u001b[0;34m,\u001b[0m \u001b[0mself\u001b[0m\u001b[0;34m.\u001b[0m\u001b[0mwriter\u001b[0m\u001b[0;34m)\u001b[0m\u001b[0;34m\u001b[0m\u001b[0;34m\u001b[0m\u001b[0m\n\u001b[0m",
      "\u001b[0;32mpandas/_libs/writers.pyx\u001b[0m in \u001b[0;36mpandas._libs.writers.write_csv_rows\u001b[0;34m()\u001b[0m\n",
      "\u001b[0;31mOSError\u001b[0m: [Errno 28] No space left on device"
     ]
    }
   ],
   "source": [
    "import xgboost as xgb\n",
    "from sklearn.preprocessing import OneHotEncoder\n",
    "train1 = train#Split[0]\n",
    "cat_cols = ['id_12', 'id_13', 'id_14', 'id_15', 'id_16', 'id_17', 'id_19', 'id_20', 'id_28', 'id_29',\n",
    "             'id_30', 'id_31', 'id_32', 'id_33', 'id_34', 'id_35', 'id_36', 'id_37', 'id_38', 'DeviceType', 'DeviceInfo', 'ProductCD', 'card4', 'card6', 'M4','P_emaildomain',\n",
    "             'R_emaildomain', 'card1', 'card2', 'card3',  'card5', 'addr1', 'addr2', 'M1', 'M2', 'M3', 'M5', 'M6', 'M7', 'M8', 'M9'\n",
    "             ]\n",
    "cat_cols_left = [ 'card1', 'card2', 'card3',  'card5', 'addr1', 'addr2', 'M1', 'M2', 'M3', 'M5', 'M6', 'M7', 'M8', 'M9'\n",
    "             ] \n",
    "\n",
    "i = 1\n",
    "for col in cat_cols:\n",
    "  if col in cat_cols_left:\n",
    "    train1 = pd.get_dummies(data=train, columns=[col])\n",
    "    train1.to_csv( \"{0}{1}.csv\".format(path_csv, i),index=False)\n",
    "  i = i + 1\n"
   ]
  },
  {
   "cell_type": "code",
   "execution_count": null,
   "metadata": {},
   "outputs": [],
   "source": []
  }
 ],
 "metadata": {
  "colab": {
   "name": "GetThisBread.ipynb",
   "provenance": []
  },
  "kernelspec": {
   "display_name": "Python 3",
   "language": "python",
   "name": "python3"
  },
  "language_info": {
   "codemirror_mode": {
    "name": "ipython",
    "version": 3
   },
   "file_extension": ".py",
   "mimetype": "text/x-python",
   "name": "python",
   "nbconvert_exporter": "python",
   "pygments_lexer": "ipython3",
   "version": "3.8.5"
  }
 },
 "nbformat": 4,
 "nbformat_minor": 1
}
